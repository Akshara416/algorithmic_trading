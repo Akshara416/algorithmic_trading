{
 "cells": [
  {
   "cell_type": "markdown",
   "id": "493d901a-097c-4a8b-9b3e-cf5131c347de",
   "metadata": {},
   "source": [
    "# Algorithmic Trading: Case Study"
   ]
  },
  {
   "cell_type": "markdown",
   "id": "7facb900-c306-403d-811f-6acc3360bccd",
   "metadata": {},
   "source": [
    "Algorithmic Trading is when people use mathematical algorithms and predefined strategies to trade in the stock market. This way of trading is faster, more efficient and more consistent than manual trading. It’s like you’re playing a game where you need to make quick decisions, and a predefined strategy can help you make those decisions faster and better."
   ]
  },
  {
   "cell_type": "code",
   "execution_count": 24,
   "id": "10cfb357-442c-4711-a353-d831c526f078",
   "metadata": {},
   "outputs": [],
   "source": [
    "# !pip install numpy\n",
    "# !pip install pandas\n",
    "#!pip install seaborn\n",
    "#!pip install plotly"
   ]
  },
  {
   "cell_type": "markdown",
   "id": "e430df0a-64b2-4f71-bc40-a1a555578e80",
   "metadata": {},
   "source": [
    "## Import required libraries"
   ]
  },
  {
   "cell_type": "code",
   "execution_count": 33,
   "id": "e13d7c26-8fca-4277-a02b-e18235e52d05",
   "metadata": {},
   "outputs": [],
   "source": [
    "import numpy as np\n",
    "import pandas as pd\n",
    "import seaborn as sns\n",
    "from datetime import datetime\n",
    "import plotly.graph_objs as go\n",
    "from plotly.subplots import make_subplots\n",
    "import warnings\n",
    "\n",
    "import matplotlib.pyplot as plt\n",
    "%matplotlib inline"
   ]
  },
  {
   "cell_type": "code",
   "execution_count": 26,
   "id": "db4c3a14-346c-4313-b9bd-da3b019b0cb6",
   "metadata": {},
   "outputs": [],
   "source": [
    "warnings.filterwarnings('ignore')\n",
    "pd.options.display.float_format = '{:.3f}'.format"
   ]
  },
  {
   "cell_type": "code",
   "execution_count": 46,
   "id": "353b4c4c-f53b-4799-96ce-62057fb111c7",
   "metadata": {},
   "outputs": [],
   "source": [
    "## Load input data\n",
    "\n",
    "data = pd.read_csv(\"../data/aapl.csv\")"
   ]
  },
  {
   "cell_type": "code",
   "execution_count": 4,
   "id": "7b03d13c-e142-47a7-9881-252f0264e3bf",
   "metadata": {},
   "outputs": [
    {
     "data": {
      "text/plain": [
       "(251, 8)"
      ]
     },
     "execution_count": 4,
     "metadata": {},
     "output_type": "execute_result"
    }
   ],
   "source": [
    "data.shape"
   ]
  },
  {
   "cell_type": "code",
   "execution_count": 5,
   "id": "4bfa33cf-38e4-4c65-8715-6f4accef2e28",
   "metadata": {},
   "outputs": [
    {
     "data": {
      "text/html": [
       "<div>\n",
       "<style scoped>\n",
       "    .dataframe tbody tr th:only-of-type {\n",
       "        vertical-align: middle;\n",
       "    }\n",
       "\n",
       "    .dataframe tbody tr th {\n",
       "        vertical-align: top;\n",
       "    }\n",
       "\n",
       "    .dataframe thead th {\n",
       "        text-align: right;\n",
       "    }\n",
       "</style>\n",
       "<table border=\"1\" class=\"dataframe\">\n",
       "  <thead>\n",
       "    <tr style=\"text-align: right;\">\n",
       "      <th></th>\n",
       "      <th>Date</th>\n",
       "      <th>Open</th>\n",
       "      <th>High</th>\n",
       "      <th>Low</th>\n",
       "      <th>Close</th>\n",
       "      <th>Volume</th>\n",
       "      <th>Dividends</th>\n",
       "      <th>Stock Splits</th>\n",
       "    </tr>\n",
       "  </thead>\n",
       "  <tbody>\n",
       "    <tr>\n",
       "      <th>0</th>\n",
       "      <td>2022-01-21 00:00:00-05:00</td>\n",
       "      <td>163.471</td>\n",
       "      <td>165.370</td>\n",
       "      <td>161.363</td>\n",
       "      <td>161.473</td>\n",
       "      <td>122848900</td>\n",
       "      <td>0.000</td>\n",
       "      <td>0.000</td>\n",
       "    </tr>\n",
       "    <tr>\n",
       "      <th>1</th>\n",
       "      <td>2022-01-24 00:00:00-05:00</td>\n",
       "      <td>159.097</td>\n",
       "      <td>161.363</td>\n",
       "      <td>153.807</td>\n",
       "      <td>160.687</td>\n",
       "      <td>162294600</td>\n",
       "      <td>0.000</td>\n",
       "      <td>0.000</td>\n",
       "    </tr>\n",
       "    <tr>\n",
       "      <th>2</th>\n",
       "      <td>2022-01-25 00:00:00-05:00</td>\n",
       "      <td>158.063</td>\n",
       "      <td>161.821</td>\n",
       "      <td>156.114</td>\n",
       "      <td>158.858</td>\n",
       "      <td>115798400</td>\n",
       "      <td>0.000</td>\n",
       "      <td>0.000</td>\n",
       "    </tr>\n",
       "    <tr>\n",
       "      <th>3</th>\n",
       "      <td>2022-01-26 00:00:00-05:00</td>\n",
       "      <td>162.557</td>\n",
       "      <td>163.441</td>\n",
       "      <td>156.909</td>\n",
       "      <td>158.769</td>\n",
       "      <td>108275300</td>\n",
       "      <td>0.000</td>\n",
       "      <td>0.000</td>\n",
       "    </tr>\n",
       "    <tr>\n",
       "      <th>4</th>\n",
       "      <td>2022-01-27 00:00:00-05:00</td>\n",
       "      <td>161.513</td>\n",
       "      <td>162.895</td>\n",
       "      <td>157.367</td>\n",
       "      <td>158.301</td>\n",
       "      <td>121954600</td>\n",
       "      <td>0.000</td>\n",
       "      <td>0.000</td>\n",
       "    </tr>\n",
       "  </tbody>\n",
       "</table>\n",
       "</div>"
      ],
      "text/plain": [
       "                        Date    Open    High     Low   Close     Volume  \\\n",
       "0  2022-01-21 00:00:00-05:00 163.471 165.370 161.363 161.473  122848900   \n",
       "1  2022-01-24 00:00:00-05:00 159.097 161.363 153.807 160.687  162294600   \n",
       "2  2022-01-25 00:00:00-05:00 158.063 161.821 156.114 158.858  115798400   \n",
       "3  2022-01-26 00:00:00-05:00 162.557 163.441 156.909 158.769  108275300   \n",
       "4  2022-01-27 00:00:00-05:00 161.513 162.895 157.367 158.301  121954600   \n",
       "\n",
       "   Dividends  Stock Splits  \n",
       "0      0.000         0.000  \n",
       "1      0.000         0.000  \n",
       "2      0.000         0.000  \n",
       "3      0.000         0.000  \n",
       "4      0.000         0.000  "
      ]
     },
     "execution_count": 5,
     "metadata": {},
     "output_type": "execute_result"
    }
   ],
   "source": [
    "data.head()"
   ]
  },
  {
   "cell_type": "markdown",
   "id": "77013405-4253-494d-b179-eaaa6e656d07",
   "metadata": {},
   "source": [
    "## Data Understanding"
   ]
  },
  {
   "cell_type": "code",
   "execution_count": 6,
   "id": "59f18f9d-136f-44aa-a5bf-2a2211f65ec5",
   "metadata": {},
   "outputs": [
    {
     "data": {
      "text/plain": [
       "Date             object\n",
       "Open            float64\n",
       "High            float64\n",
       "Low             float64\n",
       "Close           float64\n",
       "Volume            int64\n",
       "Dividends       float64\n",
       "Stock Splits    float64\n",
       "dtype: object"
      ]
     },
     "execution_count": 6,
     "metadata": {},
     "output_type": "execute_result"
    }
   ],
   "source": [
    "data.dtypes"
   ]
  },
  {
   "cell_type": "markdown",
   "id": "18225d06-fce4-4643-9ea8-c0c5f71493f9",
   "metadata": {},
   "source": [
    "*We can observe that the datatype of the Date column is object and can be converted to date*"
   ]
  },
  {
   "cell_type": "code",
   "execution_count": 7,
   "id": "2816aa1f-237a-4657-8150-b145242ab1ff",
   "metadata": {},
   "outputs": [
    {
     "name": "stdout",
     "output_type": "stream",
     "text": [
      "<class 'pandas.core.frame.DataFrame'>\n",
      "RangeIndex: 251 entries, 0 to 250\n",
      "Data columns (total 8 columns):\n",
      " #   Column        Non-Null Count  Dtype  \n",
      "---  ------        --------------  -----  \n",
      " 0   Date          251 non-null    object \n",
      " 1   Open          251 non-null    float64\n",
      " 2   High          251 non-null    float64\n",
      " 3   Low           251 non-null    float64\n",
      " 4   Close         251 non-null    float64\n",
      " 5   Volume        251 non-null    int64  \n",
      " 6   Dividends     251 non-null    float64\n",
      " 7   Stock Splits  251 non-null    float64\n",
      "dtypes: float64(6), int64(1), object(1)\n",
      "memory usage: 15.8+ KB\n"
     ]
    }
   ],
   "source": [
    "data.info()"
   ]
  },
  {
   "cell_type": "code",
   "execution_count": 8,
   "id": "ebcb395e-a2f8-45d8-9a7b-4171d63217a9",
   "metadata": {},
   "outputs": [],
   "source": [
    "def dstats(df):\n",
    "    \n",
    "    output_df = pd.DataFrame(columns=[\"Feature\",\"Records\",\"Fill_rate\",\"%Null\",\"dtype\",\"n_unique\",\"sample_data\",\"Nulls\"])\n",
    "    for i in df.columns:\n",
    "        Feature = i\n",
    "        dtype = df[i].dtype\n",
    "        size = df[i].shape[0]\n",
    "        nulls = df[i].isnull().sum()\n",
    "        Records = size - nulls\n",
    "        n_unique = df[i].nunique()\n",
    "        unique_list = df[i].unique()\n",
    "        sample_data = unique_list[:3]\n",
    "        null_percent = round((nulls / size) * 100, 2)\n",
    "        fill_rate = round(100 - null_percent, 2)\n",
    "        final_df = pd.DataFrame([[Feature,Records,fill_rate,null_percent,dtype,n_unique,sample_data,nulls]],\n",
    "            columns=[\"Feature\",\"Records\",\"Fill_rate\",\"%Null\",\"dtype\",\"n_unique\",\"sample_data\",\"Nulls\"])\n",
    "        output_df = pd.concat([output_df, final_df], ignore_index=True)\n",
    "\n",
    "    output_df = output_df[[\"Feature\",\"dtype\",\"Records\",\"Nulls\",\"Fill_rate\",\"%Null\",\"n_unique\",\"sample_data\"]]\n",
    "    return output_df"
   ]
  },
  {
   "cell_type": "code",
   "execution_count": 9,
   "id": "b9ff8e68-6ff5-4756-ac6b-51ae2f697232",
   "metadata": {},
   "outputs": [
    {
     "data": {
      "text/html": [
       "<div>\n",
       "<style scoped>\n",
       "    .dataframe tbody tr th:only-of-type {\n",
       "        vertical-align: middle;\n",
       "    }\n",
       "\n",
       "    .dataframe tbody tr th {\n",
       "        vertical-align: top;\n",
       "    }\n",
       "\n",
       "    .dataframe thead th {\n",
       "        text-align: right;\n",
       "    }\n",
       "</style>\n",
       "<table border=\"1\" class=\"dataframe\">\n",
       "  <thead>\n",
       "    <tr style=\"text-align: right;\">\n",
       "      <th></th>\n",
       "      <th>Feature</th>\n",
       "      <th>dtype</th>\n",
       "      <th>Records</th>\n",
       "      <th>Nulls</th>\n",
       "      <th>Fill_rate</th>\n",
       "      <th>%Null</th>\n",
       "      <th>n_unique</th>\n",
       "      <th>sample_data</th>\n",
       "    </tr>\n",
       "  </thead>\n",
       "  <tbody>\n",
       "    <tr>\n",
       "      <th>0</th>\n",
       "      <td>Date</td>\n",
       "      <td>object</td>\n",
       "      <td>251</td>\n",
       "      <td>0</td>\n",
       "      <td>100.000</td>\n",
       "      <td>0.000</td>\n",
       "      <td>251</td>\n",
       "      <td>[2022-01-21 00:00:00-05:00, 2022-01-24 00:00:0...</td>\n",
       "    </tr>\n",
       "    <tr>\n",
       "      <th>1</th>\n",
       "      <td>Open</td>\n",
       "      <td>float64</td>\n",
       "      <td>251</td>\n",
       "      <td>0</td>\n",
       "      <td>100.000</td>\n",
       "      <td>0.000</td>\n",
       "      <td>251</td>\n",
       "      <td>[163.47125091657557, 159.09664993875282, 158.0...</td>\n",
       "    </tr>\n",
       "    <tr>\n",
       "      <th>2</th>\n",
       "      <td>High</td>\n",
       "      <td>float64</td>\n",
       "      <td>251</td>\n",
       "      <td>0</td>\n",
       "      <td>100.000</td>\n",
       "      <td>0.000</td>\n",
       "      <td>251</td>\n",
       "      <td>[165.3702333480158, 161.36349257070873, 161.82...</td>\n",
       "    </tr>\n",
       "    <tr>\n",
       "      <th>3</th>\n",
       "      <td>Low</td>\n",
       "      <td>float64</td>\n",
       "      <td>251</td>\n",
       "      <td>0</td>\n",
       "      <td>100.000</td>\n",
       "      <td>0.000</td>\n",
       "      <td>250</td>\n",
       "      <td>[161.36348873677323, 153.807340350361, 156.113...</td>\n",
       "    </tr>\n",
       "    <tr>\n",
       "      <th>4</th>\n",
       "      <td>Close</td>\n",
       "      <td>float64</td>\n",
       "      <td>251</td>\n",
       "      <td>0</td>\n",
       "      <td>100.000</td>\n",
       "      <td>0.000</td>\n",
       "      <td>248</td>\n",
       "      <td>[161.4728546142578, 160.68740844726562, 158.85...</td>\n",
       "    </tr>\n",
       "    <tr>\n",
       "      <th>5</th>\n",
       "      <td>Volume</td>\n",
       "      <td>int64</td>\n",
       "      <td>251</td>\n",
       "      <td>0</td>\n",
       "      <td>100.000</td>\n",
       "      <td>0.000</td>\n",
       "      <td>251</td>\n",
       "      <td>[122848900, 162294600, 115798400]</td>\n",
       "    </tr>\n",
       "    <tr>\n",
       "      <th>6</th>\n",
       "      <td>Dividends</td>\n",
       "      <td>float64</td>\n",
       "      <td>251</td>\n",
       "      <td>0</td>\n",
       "      <td>100.000</td>\n",
       "      <td>0.000</td>\n",
       "      <td>3</td>\n",
       "      <td>[0.0, 0.22, 0.23]</td>\n",
       "    </tr>\n",
       "    <tr>\n",
       "      <th>7</th>\n",
       "      <td>Stock Splits</td>\n",
       "      <td>float64</td>\n",
       "      <td>251</td>\n",
       "      <td>0</td>\n",
       "      <td>100.000</td>\n",
       "      <td>0.000</td>\n",
       "      <td>1</td>\n",
       "      <td>[0.0]</td>\n",
       "    </tr>\n",
       "  </tbody>\n",
       "</table>\n",
       "</div>"
      ],
      "text/plain": [
       "        Feature    dtype Records Nulls  Fill_rate  %Null n_unique  \\\n",
       "0          Date   object     251     0    100.000  0.000      251   \n",
       "1          Open  float64     251     0    100.000  0.000      251   \n",
       "2          High  float64     251     0    100.000  0.000      251   \n",
       "3           Low  float64     251     0    100.000  0.000      250   \n",
       "4         Close  float64     251     0    100.000  0.000      248   \n",
       "5        Volume    int64     251     0    100.000  0.000      251   \n",
       "6     Dividends  float64     251     0    100.000  0.000        3   \n",
       "7  Stock Splits  float64     251     0    100.000  0.000        1   \n",
       "\n",
       "                                         sample_data  \n",
       "0  [2022-01-21 00:00:00-05:00, 2022-01-24 00:00:0...  \n",
       "1  [163.47125091657557, 159.09664993875282, 158.0...  \n",
       "2  [165.3702333480158, 161.36349257070873, 161.82...  \n",
       "3  [161.36348873677323, 153.807340350361, 156.113...  \n",
       "4  [161.4728546142578, 160.68740844726562, 158.85...  \n",
       "5                  [122848900, 162294600, 115798400]  \n",
       "6                                  [0.0, 0.22, 0.23]  \n",
       "7                                              [0.0]  "
      ]
     },
     "execution_count": 9,
     "metadata": {},
     "output_type": "execute_result"
    }
   ],
   "source": [
    "dstats(data)"
   ]
  },
  {
   "cell_type": "markdown",
   "id": "1e902dd3-72f1-4102-9fc5-138feb9658f3",
   "metadata": {},
   "source": [
    "*There are no missing values in the data*"
   ]
  },
  {
   "cell_type": "code",
   "execution_count": 10,
   "id": "5931ed7a-ceda-4d3f-a0db-7ff9dbdf4eb4",
   "metadata": {},
   "outputs": [
    {
     "data": {
      "text/html": [
       "<div>\n",
       "<style scoped>\n",
       "    .dataframe tbody tr th:only-of-type {\n",
       "        vertical-align: middle;\n",
       "    }\n",
       "\n",
       "    .dataframe tbody tr th {\n",
       "        vertical-align: top;\n",
       "    }\n",
       "\n",
       "    .dataframe thead th {\n",
       "        text-align: right;\n",
       "    }\n",
       "</style>\n",
       "<table border=\"1\" class=\"dataframe\">\n",
       "  <thead>\n",
       "    <tr style=\"text-align: right;\">\n",
       "      <th></th>\n",
       "      <th>Open</th>\n",
       "      <th>High</th>\n",
       "      <th>Low</th>\n",
       "      <th>Close</th>\n",
       "      <th>Volume</th>\n",
       "      <th>Dividends</th>\n",
       "      <th>Stock Splits</th>\n",
       "    </tr>\n",
       "  </thead>\n",
       "  <tbody>\n",
       "    <tr>\n",
       "      <th>count</th>\n",
       "      <td>251.000</td>\n",
       "      <td>251.000</td>\n",
       "      <td>251.000</td>\n",
       "      <td>251.000</td>\n",
       "      <td>251.000</td>\n",
       "      <td>251.000</td>\n",
       "      <td>251.000</td>\n",
       "    </tr>\n",
       "    <tr>\n",
       "      <th>mean</th>\n",
       "      <td>152.212</td>\n",
       "      <td>154.315</td>\n",
       "      <td>150.133</td>\n",
       "      <td>152.296</td>\n",
       "      <td>87085139.044</td>\n",
       "      <td>0.004</td>\n",
       "      <td>0.000</td>\n",
       "    </tr>\n",
       "    <tr>\n",
       "      <th>std</th>\n",
       "      <td>13.033</td>\n",
       "      <td>12.930</td>\n",
       "      <td>13.061</td>\n",
       "      <td>13.071</td>\n",
       "      <td>23941686.835</td>\n",
       "      <td>0.029</td>\n",
       "      <td>0.000</td>\n",
       "    </tr>\n",
       "    <tr>\n",
       "      <th>min</th>\n",
       "      <td>126.010</td>\n",
       "      <td>127.770</td>\n",
       "      <td>124.170</td>\n",
       "      <td>125.020</td>\n",
       "      <td>35195900.000</td>\n",
       "      <td>0.000</td>\n",
       "      <td>0.000</td>\n",
       "    </tr>\n",
       "    <tr>\n",
       "      <th>25%</th>\n",
       "      <td>142.285</td>\n",
       "      <td>144.390</td>\n",
       "      <td>140.194</td>\n",
       "      <td>142.229</td>\n",
       "      <td>70704850.000</td>\n",
       "      <td>0.000</td>\n",
       "      <td>0.000</td>\n",
       "    </tr>\n",
       "    <tr>\n",
       "      <th>50%</th>\n",
       "      <td>150.768</td>\n",
       "      <td>153.426</td>\n",
       "      <td>149.113</td>\n",
       "      <td>151.070</td>\n",
       "      <td>82291200.000</td>\n",
       "      <td>0.000</td>\n",
       "      <td>0.000</td>\n",
       "    </tr>\n",
       "    <tr>\n",
       "      <th>75%</th>\n",
       "      <td>163.107</td>\n",
       "      <td>165.498</td>\n",
       "      <td>161.007</td>\n",
       "      <td>163.295</td>\n",
       "      <td>96038150.000</td>\n",
       "      <td>0.000</td>\n",
       "      <td>0.000</td>\n",
       "    </tr>\n",
       "    <tr>\n",
       "      <th>max</th>\n",
       "      <td>177.746</td>\n",
       "      <td>178.801</td>\n",
       "      <td>175.904</td>\n",
       "      <td>178.154</td>\n",
       "      <td>182602000.000</td>\n",
       "      <td>0.230</td>\n",
       "      <td>0.000</td>\n",
       "    </tr>\n",
       "  </tbody>\n",
       "</table>\n",
       "</div>"
      ],
      "text/plain": [
       "         Open    High     Low   Close        Volume  Dividends  Stock Splits\n",
       "count 251.000 251.000 251.000 251.000       251.000    251.000       251.000\n",
       "mean  152.212 154.315 150.133 152.296  87085139.044      0.004         0.000\n",
       "std    13.033  12.930  13.061  13.071  23941686.835      0.029         0.000\n",
       "min   126.010 127.770 124.170 125.020  35195900.000      0.000         0.000\n",
       "25%   142.285 144.390 140.194 142.229  70704850.000      0.000         0.000\n",
       "50%   150.768 153.426 149.113 151.070  82291200.000      0.000         0.000\n",
       "75%   163.107 165.498 161.007 163.295  96038150.000      0.000         0.000\n",
       "max   177.746 178.801 175.904 178.154 182602000.000      0.230         0.000"
      ]
     },
     "execution_count": 10,
     "metadata": {},
     "output_type": "execute_result"
    }
   ],
   "source": [
    "data.describe()"
   ]
  },
  {
   "cell_type": "code",
   "execution_count": 47,
   "id": "874d7532-8376-4ee5-bf4b-8fe32c69f502",
   "metadata": {},
   "outputs": [],
   "source": [
    "data['Date'] = data.Date.apply(lambda x: datetime.strptime(x[:-6], '%Y-%m-%d %H:%M:%S'))"
   ]
  },
  {
   "cell_type": "markdown",
   "id": "c4832467-7e84-46a9-af98-4723a930449a",
   "metadata": {},
   "source": [
    "## Approach 1 - Using momentum strategy"
   ]
  },
  {
   "cell_type": "code",
   "execution_count": 48,
   "id": "b74e4e42-098f-444e-a874-983b14a87a1c",
   "metadata": {},
   "outputs": [],
   "source": [
    "data = data.set_index('Date')"
   ]
  },
  {
   "cell_type": "code",
   "execution_count": 49,
   "id": "b8969f0f-69ef-49b5-bb56-8760bd433104",
   "metadata": {},
   "outputs": [],
   "source": [
    "# Calculation of momentum\n",
    "data['momentum'] = data['Close'].pct_change()"
   ]
  },
  {
   "cell_type": "code",
   "execution_count": 64,
   "id": "de14aba3-b42c-44ef-a552-1705dd486715",
   "metadata": {},
   "outputs": [
    {
     "data": {
      "image/png": "[encoded data removed]",
      "text/plain": [
       "<Figure size 640x480 with 1 Axes>"
      ]
     },
     "metadata": {},
     "output_type": "display_data"
    }
   ],
   "source": [
    "plt.plot(data['Close'])\n",
    "plt.scatter(data.loc[data['momentum'] > 0].index, data.loc[data['momentum'] > 0]['Close'],label ='Buy', marker='^',color='green')\n",
    "plt.scatter(data.loc[data['momentum'] < 0].index, data.loc[data['momentum'] < 0]['Close'],label ='Sell', marker='v',color='red')\n",
    "plt.legend()\n",
    "plt.show()"
   ]
  },
  {
   "cell_type": "code",
   "execution_count": 34,
   "id": "1c6301b1-9d05-4b5d-b5ba-28515454d31d",
   "metadata": {
    "tags": []
   },
   "outputs": [
    {
     "data": {
      "application/vnd.plotly.v1+json": {
       "config": {
        "plotlyServerURL": "https://plot.ly"
       },
       "data": [
        {
         "name": "Close Price",
         "type": "scatter",
         "x": [
          0,
          1,
          2,
          3,
          4,
          5,
          6,
          7,
          8,
          9,
          10,
          11,
          12,
          13,
          14,
          15,
          16,
          17,
          18,
          19,
          20,
          21,
          22,
          23,
          24,
          25,
          26,
          27,
          28,
          29,
          30,
          31,
          32,
          33,
          34,
          35,
          36,
          37,
          38,
          39,
          40,
          41,
          42,
          43,
          44,
          45,
          46,
          47,
          48,
          49,
          50,
          51,
          52,
          53,
          54,
          55,
          56,
          57,
          58,
          59,
          60,
          61,
          62,
          63,
          64,
          65,
          66,
          67,
          68,
          69,
          70,
          71,
          72,
          73,
          74,
          75,
          76,
          77,
          78,
          79,
          80,
          81,
          82,
          83,
          84,
          85,
          86,
          87,
          88,
          89,
          90,
          91,
          92,
          93,
          94,
          95,
          96,
          97,
          98,
          99,
          100,
          101,
          102,
          103,
          104,
          105,
          106,
          107,
          108,
          109,
          110,
          111,
          112,
          113,
          114,
          115,
          116,
          117,
          118,
          119,
          120,
          121,
          122,
          123,
          124,
          125,
          126,
          127,
          128,
          129,
          130,
          131,
          132,
          133,
          134,
          135,
          136,
          137,
          138,
          139,
          140,
          141,
          142,
          143,
          144,
          145,
          146,
          147,
          148,
          149,
          150,
          151,
          152,
          153,
          154,
          155,
          156,
          157,
          158,
          159,
          160,
          161,
          162,
          163,
          164,
          165,
          166,
          167,
          168,
          169,
          170,
          171,
          172,
          173,
          174,
          175,
          176,
          177,
          178,
          179,
          180,
          181,
          182,
          183,
          184,
          185,
          186,
          187,
          188,
          189,
          190,
          191,
          192,
          193,
          194,
          195,
          196,
          197,
          198,
          199,
          200,
          201,
          202,
          203,
          204,
          205,
          206,
          207,
          208,
          209,
          210,
          211,
          212,
          213,
          214,
          215,
          216,
          217,
          218,
          219,
          220,
          221,
          222,
          223,
          224,
          225,
          226,
          227,
          228,
          229,
          230,
          231,
          232,
          233,
          234,
          235,
          236,
          237,
          238,
          239,
          240,
          241,
          242,
          243,
          244,
          245,
          246,
          247,
          248,
          249,
          250
         ],
         "y": [
          161.4728546142578,
          160.68740844726562,
          158.85801696777344,
          158.76853942871094,
          158.30125427246094,
          169.34715270996094,
          173.77145385742188,
          173.6024627685547,
          174.82534790039062,
          171.90231323242188,
          171.61363220214844,
          170.8869171142578,
          174.04263305664062,
          175.48609924316406,
          171.34483337402344,
          167.88050842285156,
          168.11944580078125,
          172.01181030273438,
          171.7729034423828,
          168.11944580078125,
          166.5465545654297,
          163.57998657226562,
          159.34912109375,
          162.00709533691406,
          164.1075897216797,
          164.37635803222656,
          162.4650115966797,
          165.80987548828125,
          165.4813690185547,
          162.4351348876953,
          158.58258056640625,
          156.73094177246094,
          162.2161407470703,
          157.8061065673828,
          154.0331573486328,
          149.941650390625,
          154.3915252685547,
          158.87127685546875,
          159.89662170410156,
          163.2415008544922,
          164.63519287109375,
          168.05970764160156,
          169.44345092773438,
          173.2860565185547,
          173.93313598632812,
          174.80917358398438,
          178.154052734375,
          176.9694061279297,
          173.82362365722656,
          173.5249786376953,
          177.63638305664062,
          174.2716064453125,
          171.05613708496094,
          171.36474609375,
          169.323974609375,
          165.00352478027344,
          166.90492248535156,
          169.63258361816406,
          164.54559326171875,
          164.32659912109375,
          166.64608764648438,
          166.47686767578125,
          165.67051696777344,
          161.0613555908203,
          162.14645385742188,
          156.09384155273438,
          155.86488342285156,
          162.9030303955078,
          156.9399871826172,
          157.24862670898438,
          158.76177978515625,
          165.27232360839844,
          156.06398010253906,
          156.80172729492188,
          151.59759521484375,
          154.04013061523438,
          146.05450439453125,
          142.12648010253906,
          146.6626434326172,
          145.097412109375,
          148.7861785888672,
          140.39178466796875,
          136.93234252929688,
          137.17160034179688,
          142.67481994628906,
          139.9331817626953,
          140.0926971435547,
          143.3427734375,
          149.18495178222656,
          148.38739013671875,
          148.25779724121094,
          150.75018310546875,
          144.9379119873047,
          145.6956024169922,
          148.25779724121094,
          147.51007080078125,
          142.2062530517578,
          136.7130126953125,
          131.4789581298828,
          132.3562774658203,
          135.01815795898438,
          129.66448974609375,
          131.15992736816406,
          135.45681762695312,
          134.93841552734375,
          137.8495330810547,
          141.22923278808594,
          141.22923278808594,
          137.02206420898438,
          138.80661010742188,
          136.3042449951172,
          138.50750732421875,
          141.12953186035156,
          142.48538208007812,
          145.90496826171875,
          146.5928497314453,
          144.42945861816406,
          145.41644287109375,
          145.04757690429688,
          148.01852416992188,
          149.7133331298828,
          146.62278747558594,
          150.5408172607422,
          152.57461547851562,
          154.87759399414062,
          153.6214141845703,
          152.48489379882812,
          151.1389923095703,
          156.31320190429688,
          156.87152099609375,
          162.01580810546875,
          161.0188446044922,
          159.52340698242188,
          165.62481689453125,
          165.3057861328125,
          165.076171875,
          164.59695434570312,
          164.64686584472656,
          168.95973205566406,
          168.21096801757812,
          171.8149871826172,
          172.90318298339844,
          172.74343872070312,
          174.26092529296875,
          173.86158752441406,
          171.23594665527344,
          167.29249572753906,
          166.9530487060547,
          167.25254821777344,
          169.7484130859375,
          163.34901428222656,
          161.1127471923828,
          158.64683532714844,
          156.95962524414062,
          157.6984100341797,
          155.5519561767578,
          154.27407836914062,
          155.70172119140625,
          154.20420837402344,
          157.109375,
          163.15933227539062,
          153.58522033691406,
          155.0527801513672,
          152.11764526367188,
          150.45042419433594,
          154.22415161132812,
          156.64015197753906,
          153.46542358398438,
          152.48704528808594,
          150.1808624267578,
          150.5203094482422,
          151.5086669921875,
          149.5918426513672,
          142.24403381347656,
          137.9711151123047,
          142.21408081054688,
          145.85804748535156,
          146.15753173828125,
          145.18914794921875,
          139.8579864501953,
          140.18743896484375,
          138.7498321533203,
          138.1108856201172,
          142.75320434570312,
          138.1508331298828,
          142.17416381835938,
          143.51193237304688,
          143.6217498779297,
          143.15252685546875,
          147.02610778808594,
          149.20248413085938,
          152.08770751953125,
          149.1026611328125,
          144.56019592285156,
          155.48208618164062,
          153.08604431152344,
          150.40049743652344,
          144.78981018066406,
          138.65000915527344,
          138.3800048828125,
          138.9199981689453,
          139.5,
          134.8699951171875,
          146.8699951171875,
          149.6999969482422,
          148.27999877929688,
          150.0399932861328,
          148.7899932861328,
          150.72000122070312,
          151.2899932861328,
          148.00999450683594,
          150.17999267578125,
          151.07000732421875,
          148.11000061035156,
          144.22000122070312,
          141.1699981689453,
          148.02999877929688,
          148.30999755859375,
          147.80999755859375,
          146.6300048828125,
          142.91000366210938,
          140.94000244140625,
          142.64999389648438,
          142.16000366210938,
          144.49000549316406,
          145.47000122070312,
          143.2100067138672,
          136.5,
          134.50999450683594,
          132.3699951171875,
          132.3000030517578,
          135.4499969482422,
          132.22999572753906,
          131.86000061035156,
          130.02999877929688,
          126.04000091552734,
          129.61000061035156,
          129.92999267578125,
          125.06999969482422,
          126.36000061035156,
          125.0199966430664,
          129.6199951171875,
          130.14999389648438,
          130.72999572753906,
          133.49000549316406,
          133.41000366210938,
          134.75999450683594,
          135.94000244140625,
          135.2100067138672,
          135.27000427246094,
          137.8699951171875
         ]
        },
        {
         "name": "Momentum",
         "type": "scatter",
         "x": [
          0,
          1,
          2,
          3,
          4,
          5,
          6,
          7,
          8,
          9,
          10,
          11,
          12,
          13,
          14,
          15,
          16,
          17,
          18,
          19,
          20,
          21,
          22,
          23,
          24,
          25,
          26,
          27,
          28,
          29,
          30,
          31,
          32,
          33,
          34,
          35,
          36,
          37,
          38,
          39,
          40,
          41,
          42,
          43,
          44,
          45,
          46,
          47,
          48,
          49,
          50,
          51,
          52,
          53,
          54,
          55,
          56,
          57,
          58,
          59,
          60,
          61,
          62,
          63,
          64,
          65,
          66,
          67,
          68,
          69,
          70,
          71,
          72,
          73,
          74,
          75,
          76,
          77,
          78,
          79,
          80,
          81,
          82,
          83,
          84,
          85,
          86,
          87,
          88,
          89,
          90,
          91,
          92,
          93,
          94,
          95,
          96,
          97,
          98,
          99,
          100,
          101,
          102,
          103,
          104,
          105,
          106,
          107,
          108,
          109,
          110,
          111,
          112,
          113,
          114,
          115,
          116,
          117,
          118,
          119,
          120,
          121,
          122,
          123,
          124,
          125,
          126,
          127,
          128,
          129,
          130,
          131,
          132,
          133,
          134,
          135,
          136,
          137,
          138,
          139,
          140,
          141,
          142,
          143,
          144,
          145,
          146,
          147,
          148,
          149,
          150,
          151,
          152,
          153,
          154,
          155,
          156,
          157,
          158,
          159,
          160,
          161,
          162,
          163,
          164,
          165,
          166,
          167,
          168,
          169,
          170,
          171,
          172,
          173,
          174,
          175,
          176,
          177,
          178,
          179,
          180,
          181,
          182,
          183,
          184,
          185,
          186,
          187,
          188,
          189,
          190,
          191,
          192,
          193,
          194,
          195,
          196,
          197,
          198,
          199,
          200,
          201,
          202,
          203,
          204,
          205,
          206,
          207,
          208,
          209,
          210,
          211,
          212,
          213,
          214,
          215,
          216,
          217,
          218,
          219,
          220,
          221,
          222,
          223,
          224,
          225,
          226,
          227,
          228,
          229,
          230,
          231,
          232,
          233,
          234,
          235,
          236,
          237,
          238,
          239,
          240,
          241,
          242,
          243,
          244,
          245,
          246,
          247,
          248,
          249,
          250
         ],
         "y": [
          null,
          -0.0048642613575423654,
          -0.011384784266357473,
          -0.0005632547904752538,
          -0.002943184826990297,
          0.06977770636288394,
          0.026125630556295132,
          -0.0009724905047168164,
          0.007044169260814526,
          -0.016719741748400185,
          -0.0016793318533364632,
          -0.004234600005637135,
          0.01846669128142131,
          0.00829375056658499,
          -0.023598825701870774,
          -0.020218438355883772,
          0.001423258603243438,
          0.02315237528539993,
          -0.001388898006079331,
          -0.021269115025624674,
          -0.009355795981004,
          -0.017812244755856632,
          -0.02586419993772604,
          0.01668019393467679,
          0.01296544685525891,
          0.0016377567363137224,
          -0.011627867038957906,
          0.020588210709055366,
          -0.0019812237887469886,
          -0.018408320821408086,
          -0.023717493902736253,
          -0.011676180242065959,
          0.034997550021569346,
          -0.027186161373199513,
          -0.023908765641708296,
          -0.026562507893980625,
          0.029677376941876776,
          0.029015527757251025,
          0.006453934713230858,
          0.02091901076296998,
          0.00853760844703233,
          0.02080062416052897,
          0.008233640921735619,
          0.022677805307796284,
          0.003734169273476251,
          0.0050366342944860865,
          0.019134460061866365,
          -0.006649563050982632,
          -0.01777585481882138,
          -0.0017180922434349988,
          0.02369344431691056,
          -0.018941933816876033,
          -0.01845090790140047,
          0.0018041387701617229,
          -0.011908934193842535,
          -0.025515877707623535,
          0.011523376289143572,
          0.016342604473225775,
          -0.02998828555188382,
          -0.0013309024950712844,
          0.014115113060189088,
          -0.0010154452054229601,
          -0.004843620133328064,
          -0.027821253058863293,
          0.006737173312748368,
          -0.03732805843542941,
          -0.0014667979697677858,
          0.045155437312728086,
          -0.036604863632144324,
          0.001966608586555063,
          0.009622679115488975,
          0.041008256723076286,
          -0.05571618589739147,
          0.004727209903900187,
          -0.03318925224777591,
          0.016111966663647115,
          -0.05184120650124502,
          -0.026894235876365524,
          0.0319163841024237,
          -0.010672324503419484,
          0.025422689666660503,
          -0.0564191781824992,
          -0.024641343130252014,
          0.0017472702802028284,
          0.04011923452653132,
          -0.019215991894195872,
          0.0011399396401197137,
          0.023199469781175708,
          0.04075669951561145,
          -0.005346126643336335,
          -0.0008733416996444809,
          0.01681116211515521,
          -0.03855564881203255,
          0.005227689700358473,
          0.01758594481723308,
          -0.0050434206790025415,
          -0.03595563150523107,
          -0.0386286836096158,
          -0.038284977137433396,
          0.006672697657604143,
          0.020111478987851372,
          -0.03965146831966815,
          0.01153313158443492,
          0.032760694100780974,
          -0.003827065397601803,
          0.021573675237953616,
          0.024517309790552666,
          0,
          -0.029789644084623812,
          0.01302378495565315,
          -0.018027708553419175,
          0.016164297224789292,
          0.018930558976815393,
          0.00960713326157836,
          0.023999557931625448,
          0.0047145856506589645,
          -0.014757821525705594,
          0.006833676885399376,
          -0.002536618002159874,
          0.020482570815955503,
          0.011449978774381808,
          -0.020643088959990563,
          0.02672183398374317,
          0.013509945374156063,
          0.015094113187847258,
          -0.008110791091045955,
          -0.00739818984075169,
          -0.008826457859054893,
          0.03423477631853267,
          0.0035717974233469008,
          0.03279299567384886,
          -0.006153495221451255,
          -0.009287345377142264,
          0.03824774073927406,
          -0.0019262255965053487,
          -0.0013890273485528404,
          -0.002903008495131254,
          0.0003032346450262402,
          0.026194645059352872,
          -0.0044316123668997065,
          0.021425589588560223,
          0.006333532473652204,
          -0.0009238942854548071,
          0.008784626400306639,
          -0.0022916082184420983,
          -0.015101903223861513,
          -0.023029340537201626,
          -0.0020290630491711648,
          0.0017939146007812656,
          0.01492273149054979,
          -0.037699314458222055,
          -0.013690116831559407,
          -0.015305504425977334,
          -0.01063500623588609,
          0.004706846036934165,
          -0.013611131887484751,
          -0.008215118851768732,
          0.00925393842800748,
          -0.009617830849422027,
          0.018839736325029888,
          0.03850793293137733,
          -0.05867952390438058,
          0.009555345307535434,
          -0.01892990815662865,
          -0.010960076764573112,
          0.025082863256787435,
          0.01566551244385961,
          -0.0202676539410529,
          -0.006375236017662433,
          -0.015123795316324573,
          0.0022602548420569413,
          0.006566273664785127,
          -0.012651582109947213,
          -0.04911904758747532,
          -0.030039352699846256,
          0.03075256509153035,
          0.025623107459092465,
          0.0020532583432515406,
          -0.006625616740685958,
          -0.036718732593486014,
          0.0023556217489644204,
          -0.010254890324973842,
          -0.004605025629847881,
          0.03361298209581354,
          -0.03224005539430708,
          0.029122739235991624,
          0.009409364674700216,
          0.0007652151501753579,
          -0.003267074958073879,
          0.027059116717709664,
          0.014802652233100844,
          0.019337636403837344,
          -0.019627137757569302,
          -0.030465353035615927,
          0.07555254189485061,
          -0.01541040469008137,
          -0.017542728255065643,
          -0.037304978051866944,
          -0.042404924888910234,
          -0.0019473801271701063,
          0.003902249364639898,
          0.004175078021159573,
          -0.03318999915994625,
          0.08897457132383879,
          0.019268754171310798,
          -0.009485625904429806,
          0.011869399253607638,
          -0.00833111207633952,
          0.01297135574741759,
          0.003781794458686649,
          -0.02168020969565021,
          0.014661159715434469,
          0.0059263196953200925,
          -0.01959360938875554,
          -0.02626425881856731,
          -0.021148266717113118,
          0.04859389884061516,
          0.0018915002472865705,
          -0.0033713168918532155,
          -0.00798317228381984,
          -0.025369986338581674,
          -0.013784907775671984,
          0.012132761639400691,
          -0.0034349124103753015,
          0.01638999557563814,
          0.006782446468835079,
          -0.015535811424151502,
          -0.04685431463789913,
          -0.014578794821714758,
          -0.01590959391154889,
          -0.0005287608069164396,
          0.023809477126406797,
          -0.02377261936693542,
          -0.0027981178941416385,
          -0.01387836965405731,
          -0.03068521034551308,
          0.02832433885189234,
          0.00246888406699175,
          -0.03740470449409117,
          0.010314231379827232,
          -0.010604653061194957,
          0.036794101724815675,
          0.004088865910060413,
          0.004456410743407302,
          0.02111229140844828,
          -0.0005993095195339082,
          0.010119112567793076,
          0.008756366745847899,
          -0.005369984658148752,
          0.00044373608175840573,
          0.01922074933545259
         ],
         "yaxis": "y2"
        },
        {
         "marker": {
          "color": "green",
          "symbol": "triangle-up"
         },
         "mode": "markers",
         "name": "Buy",
         "type": "scatter",
         "x": [
          5,
          6,
          8,
          12,
          13,
          16,
          17,
          23,
          24,
          25,
          27,
          32,
          36,
          37,
          38,
          39,
          40,
          41,
          42,
          43,
          44,
          45,
          46,
          50,
          53,
          56,
          57,
          60,
          64,
          67,
          69,
          70,
          71,
          73,
          75,
          78,
          80,
          83,
          84,
          86,
          87,
          88,
          91,
          93,
          94,
          99,
          100,
          102,
          103,
          105,
          106,
          109,
          111,
          112,
          113,
          114,
          115,
          117,
          119,
          120,
          122,
          123,
          124,
          128,
          129,
          130,
          133,
          137,
          138,
          140,
          141,
          143,
          148,
          149,
          154,
          157,
          159,
          160,
          162,
          165,
          166,
          170,
          171,
          175,
          176,
          177,
          180,
          183,
          185,
          186,
          187,
          189,
          190,
          191,
          194,
          200,
          201,
          203,
          204,
          206,
          208,
          209,
          211,
          212,
          216,
          217,
          222,
          224,
          225,
          231,
          236,
          237,
          239,
          241,
          242,
          243,
          244,
          246,
          247,
          249,
          250
         ],
         "y": [
          169.34715270996094,
          173.77145385742188,
          174.82534790039062,
          174.04263305664062,
          175.48609924316406,
          168.11944580078125,
          172.01181030273438,
          162.00709533691406,
          164.1075897216797,
          164.37635803222656,
          165.80987548828125,
          162.2161407470703,
          154.3915252685547,
          158.87127685546875,
          159.89662170410156,
          163.2415008544922,
          164.63519287109375,
          168.05970764160156,
          169.44345092773438,
          173.2860565185547,
          173.93313598632812,
          174.80917358398438,
          178.154052734375,
          177.63638305664062,
          171.36474609375,
          166.90492248535156,
          169.63258361816406,
          166.64608764648438,
          162.14645385742188,
          162.9030303955078,
          157.24862670898438,
          158.76177978515625,
          165.27232360839844,
          156.80172729492188,
          154.04013061523438,
          146.6626434326172,
          148.7861785888672,
          137.17160034179688,
          142.67481994628906,
          140.0926971435547,
          143.3427734375,
          149.18495178222656,
          150.75018310546875,
          145.6956024169922,
          148.25779724121094,
          132.3562774658203,
          135.01815795898438,
          131.15992736816406,
          135.45681762695312,
          137.8495330810547,
          141.22923278808594,
          138.80661010742188,
          138.50750732421875,
          141.12953186035156,
          142.48538208007812,
          145.90496826171875,
          146.5928497314453,
          145.41644287109375,
          148.01852416992188,
          149.7133331298828,
          150.5408172607422,
          152.57461547851562,
          154.87759399414062,
          156.31320190429688,
          156.87152099609375,
          162.01580810546875,
          165.62481689453125,
          164.64686584472656,
          168.95973205566406,
          171.8149871826172,
          172.90318298339844,
          174.26092529296875,
          167.25254821777344,
          169.7484130859375,
          157.6984100341797,
          155.70172119140625,
          157.109375,
          163.15933227539062,
          155.0527801513672,
          154.22415161132812,
          156.64015197753906,
          150.5203094482422,
          151.5086669921875,
          142.21408081054688,
          145.85804748535156,
          146.15753173828125,
          140.18743896484375,
          142.75320434570312,
          142.17416381835938,
          143.51193237304688,
          143.6217498779297,
          147.02610778808594,
          149.20248413085938,
          152.08770751953125,
          155.48208618164062,
          138.9199981689453,
          139.5,
          146.8699951171875,
          149.6999969482422,
          150.0399932861328,
          150.72000122070312,
          151.2899932861328,
          150.17999267578125,
          151.07000732421875,
          148.02999877929688,
          148.30999755859375,
          142.64999389648438,
          144.49000549316406,
          145.47000122070312,
          135.4499969482422,
          129.61000061035156,
          129.92999267578125,
          126.36000061035156,
          129.6199951171875,
          130.14999389648438,
          130.72999572753906,
          133.49000549316406,
          134.75999450683594,
          135.94000244140625,
          135.27000427246094,
          137.8699951171875
         ]
        },
        {
         "marker": {
          "color": "red",
          "symbol": "triangle-down"
         },
         "mode": "markers",
         "name": "Sell",
         "type": "scatter",
         "x": [
          1,
          2,
          3,
          4,
          7,
          9,
          10,
          11,
          14,
          15,
          18,
          19,
          20,
          21,
          22,
          26,
          28,
          29,
          30,
          31,
          33,
          34,
          35,
          47,
          48,
          49,
          51,
          52,
          54,
          55,
          58,
          59,
          61,
          62,
          63,
          65,
          66,
          68,
          72,
          74,
          76,
          77,
          79,
          81,
          82,
          85,
          89,
          90,
          92,
          95,
          96,
          97,
          98,
          101,
          104,
          108,
          110,
          116,
          118,
          121,
          125,
          126,
          127,
          131,
          132,
          134,
          135,
          136,
          139,
          142,
          144,
          145,
          146,
          147,
          150,
          151,
          152,
          153,
          155,
          156,
          158,
          161,
          163,
          164,
          167,
          168,
          169,
          172,
          173,
          174,
          178,
          179,
          181,
          182,
          184,
          188,
          192,
          193,
          195,
          196,
          197,
          198,
          199,
          202,
          205,
          207,
          210,
          213,
          214,
          215,
          218,
          219,
          220,
          221,
          223,
          226,
          227,
          228,
          229,
          230,
          232,
          233,
          234,
          235,
          238,
          240,
          245,
          248
         ],
         "y": [
          160.68740844726562,
          158.85801696777344,
          158.76853942871094,
          158.30125427246094,
          173.6024627685547,
          171.90231323242188,
          171.61363220214844,
          170.8869171142578,
          171.34483337402344,
          167.88050842285156,
          171.7729034423828,
          168.11944580078125,
          166.5465545654297,
          163.57998657226562,
          159.34912109375,
          162.4650115966797,
          165.4813690185547,
          162.4351348876953,
          158.58258056640625,
          156.73094177246094,
          157.8061065673828,
          154.0331573486328,
          149.941650390625,
          176.9694061279297,
          173.82362365722656,
          173.5249786376953,
          174.2716064453125,
          171.05613708496094,
          169.323974609375,
          165.00352478027344,
          164.54559326171875,
          164.32659912109375,
          166.47686767578125,
          165.67051696777344,
          161.0613555908203,
          156.09384155273438,
          155.86488342285156,
          156.9399871826172,
          156.06398010253906,
          151.59759521484375,
          146.05450439453125,
          142.12648010253906,
          145.097412109375,
          140.39178466796875,
          136.93234252929688,
          139.9331817626953,
          148.38739013671875,
          148.25779724121094,
          144.9379119873047,
          147.51007080078125,
          142.2062530517578,
          136.7130126953125,
          131.4789581298828,
          129.66448974609375,
          134.93841552734375,
          137.02206420898438,
          136.3042449951172,
          144.42945861816406,
          145.04757690429688,
          146.62278747558594,
          153.6214141845703,
          152.48489379882812,
          151.1389923095703,
          161.0188446044922,
          159.52340698242188,
          165.3057861328125,
          165.076171875,
          164.59695434570312,
          168.21096801757812,
          172.74343872070312,
          173.86158752441406,
          171.23594665527344,
          167.29249572753906,
          166.9530487060547,
          163.34901428222656,
          161.1127471923828,
          158.64683532714844,
          156.95962524414062,
          155.5519561767578,
          154.27407836914062,
          154.20420837402344,
          153.58522033691406,
          152.11764526367188,
          150.45042419433594,
          153.46542358398438,
          152.48704528808594,
          150.1808624267578,
          149.5918426513672,
          142.24403381347656,
          137.9711151123047,
          145.18914794921875,
          139.8579864501953,
          138.7498321533203,
          138.1108856201172,
          138.1508331298828,
          143.15252685546875,
          149.1026611328125,
          144.56019592285156,
          153.08604431152344,
          150.40049743652344,
          144.78981018066406,
          138.65000915527344,
          138.3800048828125,
          134.8699951171875,
          148.27999877929688,
          148.7899932861328,
          148.00999450683594,
          148.11000061035156,
          144.22000122070312,
          141.1699981689453,
          147.80999755859375,
          146.6300048828125,
          142.91000366210938,
          140.94000244140625,
          142.16000366210938,
          143.2100067138672,
          136.5,
          134.50999450683594,
          132.3699951171875,
          132.3000030517578,
          132.22999572753906,
          131.86000061035156,
          130.02999877929688,
          126.04000091552734,
          125.06999969482422,
          125.0199966430664,
          133.41000366210938,
          135.2100067138672
         ]
        }
       ],
       "layout": {
        "template": {
         "data": {
          "bar": [
           {
            "error_x": {
             "color": "#2a3f5f"
            },
            "error_y": {
             "color": "#2a3f5f"
            },
            "marker": {
             "line": {
              "color": "#E5ECF6",
              "width": 0.5
             },
             "pattern": {
              "fillmode": "overlay",
              "size": 10,
              "solidity": 0.2
             }
            },
            "type": "bar"
           }
          ],
          "barpolar": [
           {
            "marker": {
             "line": {
              "color": "#E5ECF6",
              "width": 0.5
             },
             "pattern": {
              "fillmode": "overlay",
              "size": 10,
              "solidity": 0.2
             }
            },
            "type": "barpolar"
           }
          ],
          "carpet": [
           {
            "aaxis": {
             "endlinecolor": "#2a3f5f",
             "gridcolor": "white",
             "linecolor": "white",
             "minorgridcolor": "white",
             "startlinecolor": "#2a3f5f"
            },
            "baxis": {
             "endlinecolor": "#2a3f5f",
             "gridcolor": "white",
             "linecolor": "white",
             "minorgridcolor": "white",
             "startlinecolor": "#2a3f5f"
            },
            "type": "carpet"
           }
          ],
          "choropleth": [
           {
            "colorbar": {
             "outlinewidth": 0,
             "ticks": ""
            },
            "type": "choropleth"
           }
          ],
          "contour": [
           {
            "colorbar": {
             "outlinewidth": 0,
             "ticks": ""
            },
            "colorscale": [
             [
              0,
              "#0d0887"
             ],
             [
              0.1111111111111111,
              "#46039f"
             ],
             [
              0.2222222222222222,
              "#7201a8"
             ],
             [
              0.3333333333333333,
              "#9c179e"
             ],
             [
              0.4444444444444444,
              "#bd3786"
             ],
             [
              0.5555555555555556,
              "#d8576b"
             ],
             [
              0.6666666666666666,
              "#ed7953"
             ],
             [
              0.7777777777777778,
              "#fb9f3a"
             ],
             [
              0.8888888888888888,
              "#fdca26"
             ],
             [
              1,
              "#f0f921"
             ]
            ],
            "type": "contour"
           }
          ],
          "contourcarpet": [
           {
            "colorbar": {
             "outlinewidth": 0,
             "ticks": ""
            },
            "type": "contourcarpet"
           }
          ],
          "heatmap": [
           {
            "colorbar": {
             "outlinewidth": 0,
             "ticks": ""
            },
            "colorscale": [
             [
              0,
              "#0d0887"
             ],
             [
              0.1111111111111111,
              "#46039f"
             ],
             [
              0.2222222222222222,
              "#7201a8"
             ],
             [
              0.3333333333333333,
              "#9c179e"
             ],
             [
              0.4444444444444444,
              "#bd3786"
             ],
             [
              0.5555555555555556,
              "#d8576b"
             ],
             [
              0.6666666666666666,
              "#ed7953"
             ],
             [
              0.7777777777777778,
              "#fb9f3a"
             ],
             [
              0.8888888888888888,
              "#fdca26"
             ],
             [
              1,
              "#f0f921"
             ]
            ],
            "type": "heatmap"
           }
          ],
          "heatmapgl": [
           {
            "colorbar": {
             "outlinewidth": 0,
             "ticks": ""
            },
            "colorscale": [
             [
              0,
              "#0d0887"
             ],
             [
              0.1111111111111111,
              "#46039f"
             ],
             [
              0.2222222222222222,
              "#7201a8"
             ],
             [
              0.3333333333333333,
              "#9c179e"
             ],
             [
              0.4444444444444444,
              "#bd3786"
             ],
             [
              0.5555555555555556,
              "#d8576b"
             ],
             [
              0.6666666666666666,
              "#ed7953"
             ],
             [
              0.7777777777777778,
              "#fb9f3a"
             ],
             [
              0.8888888888888888,
              "#fdca26"
             ],
             [
              1,
              "#f0f921"
             ]
            ],
            "type": "heatmapgl"
           }
          ],
          "histogram": [
           {
            "marker": {
             "pattern": {
              "fillmode": "overlay",
              "size": 10,
              "solidity": 0.2
             }
            },
            "type": "histogram"
           }
          ],
          "histogram2d": [
           {
            "colorbar": {
             "outlinewidth": 0,
             "ticks": ""
            },
            "colorscale": [
             [
              0,
              "#0d0887"
             ],
             [
              0.1111111111111111,
              "#46039f"
             ],
             [
              0.2222222222222222,
              "#7201a8"
             ],
             [
              0.3333333333333333,
              "#9c179e"
             ],
             [
              0.4444444444444444,
              "#bd3786"
             ],
             [
              0.5555555555555556,
              "#d8576b"
             ],
             [
              0.6666666666666666,
              "#ed7953"
             ],
             [
              0.7777777777777778,
              "#fb9f3a"
             ],
             [
              0.8888888888888888,
              "#fdca26"
             ],
             [
              1,
              "#f0f921"
             ]
            ],
            "type": "histogram2d"
           }
          ],
          "histogram2dcontour": [
           {
            "colorbar": {
             "outlinewidth": 0,
             "ticks": ""
            },
            "colorscale": [
             [
              0,
              "#0d0887"
             ],
             [
              0.1111111111111111,
              "#46039f"
             ],
             [
              0.2222222222222222,
              "#7201a8"
             ],
             [
              0.3333333333333333,
              "#9c179e"
             ],
             [
              0.4444444444444444,
              "#bd3786"
             ],
             [
              0.5555555555555556,
              "#d8576b"
             ],
             [
              0.6666666666666666,
              "#ed7953"
             ],
             [
              0.7777777777777778,
              "#fb9f3a"
             ],
             [
              0.8888888888888888,
              "#fdca26"
             ],
             [
              1,
              "#f0f921"
             ]
            ],
            "type": "histogram2dcontour"
           }
          ],
          "mesh3d": [
           {
            "colorbar": {
             "outlinewidth": 0,
             "ticks": ""
            },
            "type": "mesh3d"
           }
          ],
          "parcoords": [
           {
            "line": {
             "colorbar": {
              "outlinewidth": 0,
              "ticks": ""
             }
            },
            "type": "parcoords"
           }
          ],
          "pie": [
           {
            "automargin": true,
            "type": "pie"
           }
          ],
          "scatter": [
           {
            "fillpattern": {
             "fillmode": "overlay",
             "size": 10,
             "solidity": 0.2
            },
            "type": "scatter"
           }
          ],
          "scatter3d": [
           {
            "line": {
             "colorbar": {
              "outlinewidth": 0,
              "ticks": ""
             }
            },
            "marker": {
             "colorbar": {
              "outlinewidth": 0,
              "ticks": ""
             }
            },
            "type": "scatter3d"
           }
          ],
          "scattercarpet": [
           {
            "marker": {
             "colorbar": {
              "outlinewidth": 0,
              "ticks": ""
             }
            },
            "type": "scattercarpet"
           }
          ],
          "scattergeo": [
           {
            "marker": {
             "colorbar": {
              "outlinewidth": 0,
              "ticks": ""
             }
            },
            "type": "scattergeo"
           }
          ],
          "scattergl": [
           {
            "marker": {
             "colorbar": {
              "outlinewidth": 0,
              "ticks": ""
             }
            },
            "type": "scattergl"
           }
          ],
          "scattermapbox": [
           {
            "marker": {
             "colorbar": {
              "outlinewidth": 0,
              "ticks": ""
             }
            },
            "type": "scattermapbox"
           }
          ],
          "scatterpolar": [
           {
            "marker": {
             "colorbar": {
              "outlinewidth": 0,
              "ticks": ""
             }
            },
            "type": "scatterpolar"
           }
          ],
          "scatterpolargl": [
           {
            "marker": {
             "colorbar": {
              "outlinewidth": 0,
              "ticks": ""
             }
            },
            "type": "scatterpolargl"
           }
          ],
          "scatterternary": [
           {
            "marker": {
             "colorbar": {
              "outlinewidth": 0,
              "ticks": ""
             }
            },
            "type": "scatterternary"
           }
          ],
          "surface": [
           {
            "colorbar": {
             "outlinewidth": 0,
             "ticks": ""
            },
            "colorscale": [
             [
              0,
              "#0d0887"
             ],
             [
              0.1111111111111111,
              "#46039f"
             ],
             [
              0.2222222222222222,
              "#7201a8"
             ],
             [
              0.3333333333333333,
              "#9c179e"
             ],
             [
              0.4444444444444444,
              "#bd3786"
             ],
             [
              0.5555555555555556,
              "#d8576b"
             ],
             [
              0.6666666666666666,
              "#ed7953"
             ],
             [
              0.7777777777777778,
              "#fb9f3a"
             ],
             [
              0.8888888888888888,
              "#fdca26"
             ],
             [
              1,
              "#f0f921"
             ]
            ],
            "type": "surface"
           }
          ],
          "table": [
           {
            "cells": {
             "fill": {
              "color": "#EBF0F8"
             },
             "line": {
              "color": "white"
             }
            },
            "header": {
             "fill": {
              "color": "#C8D4E3"
             },
             "line": {
              "color": "white"
             }
            },
            "type": "table"
           }
          ]
         },
         "layout": {
          "annotationdefaults": {
           "arrowcolor": "#2a3f5f",
           "arrowhead": 0,
           "arrowwidth": 1
          },
          "autotypenumbers": "strict",
          "coloraxis": {
           "colorbar": {
            "outlinewidth": 0,
            "ticks": ""
           }
          },
          "colorscale": {
           "diverging": [
            [
             0,
             "#8e0152"
            ],
            [
             0.1,
             "#c51b7d"
            ],
            [
             0.2,
             "#de77ae"
            ],
            [
             0.3,
             "#f1b6da"
            ],
            [
             0.4,
             "#fde0ef"
            ],
            [
             0.5,
             "#f7f7f7"
            ],
            [
             0.6,
             "#e6f5d0"
            ],
            [
             0.7,
             "#b8e186"
            ],
            [
             0.8,
             "#7fbc41"
            ],
            [
             0.9,
             "#4d9221"
            ],
            [
             1,
             "#276419"
            ]
           ],
           "sequential": [
            [
             0,
             "#0d0887"
            ],
            [
             0.1111111111111111,
             "#46039f"
            ],
            [
             0.2222222222222222,
             "#7201a8"
            ],
            [
             0.3333333333333333,
             "#9c179e"
            ],
            [
             0.4444444444444444,
             "#bd3786"
            ],
            [
             0.5555555555555556,
             "#d8576b"
            ],
            [
             0.6666666666666666,
             "#ed7953"
            ],
            [
             0.7777777777777778,
             "#fb9f3a"
            ],
            [
             0.8888888888888888,
             "#fdca26"
            ],
            [
             1,
             "#f0f921"
            ]
           ],
           "sequentialminus": [
            [
             0,
             "#0d0887"
            ],
            [
             0.1111111111111111,
             "#46039f"
            ],
            [
             0.2222222222222222,
             "#7201a8"
            ],
            [
             0.3333333333333333,
             "#9c179e"
            ],
            [
             0.4444444444444444,
             "#bd3786"
            ],
            [
             0.5555555555555556,
             "#d8576b"
            ],
            [
             0.6666666666666666,
             "#ed7953"
            ],
            [
             0.7777777777777778,
             "#fb9f3a"
            ],
            [
             0.8888888888888888,
             "#fdca26"
            ],
            [
             1,
             "#f0f921"
            ]
           ]
          },
          "colorway": [
           "#636efa",
           "#EF553B",
           "#00cc96",
           "#ab63fa",
           "#FFA15A",
           "#19d3f3",
           "#FF6692",
           "#B6E880",
           "#FF97FF",
           "#FECB52"
          ],
          "font": {
           "color": "#2a3f5f"
          },
          "geo": {
           "bgcolor": "white",
           "lakecolor": "white",
           "landcolor": "#E5ECF6",
           "showlakes": true,
           "showland": true,
           "subunitcolor": "white"
          },
          "hoverlabel": {
           "align": "left"
          },
          "hovermode": "closest",
          "mapbox": {
           "style": "light"
          },
          "paper_bgcolor": "white",
          "plot_bgcolor": "#E5ECF6",
          "polar": {
           "angularaxis": {
            "gridcolor": "white",
            "linecolor": "white",
            "ticks": ""
           },
           "bgcolor": "#E5ECF6",
           "radialaxis": {
            "gridcolor": "white",
            "linecolor": "white",
            "ticks": ""
           }
          },
          "scene": {
           "xaxis": {
            "backgroundcolor": "#E5ECF6",
            "gridcolor": "white",
            "gridwidth": 2,
            "linecolor": "white",
            "showbackground": true,
            "ticks": "",
            "zerolinecolor": "white"
           },
           "yaxis": {
            "backgroundcolor": "#E5ECF6",
            "gridcolor": "white",
            "gridwidth": 2,
            "linecolor": "white",
            "showbackground": true,
            "ticks": "",
            "zerolinecolor": "white"
           },
           "zaxis": {
            "backgroundcolor": "#E5ECF6",
            "gridcolor": "white",
            "gridwidth": 2,
            "linecolor": "white",
            "showbackground": true,
            "ticks": "",
            "zerolinecolor": "white"
           }
          },
          "shapedefaults": {
           "line": {
            "color": "#2a3f5f"
           }
          },
          "ternary": {
           "aaxis": {
            "gridcolor": "white",
            "linecolor": "white",
            "ticks": ""
           },
           "baxis": {
            "gridcolor": "white",
            "linecolor": "white",
            "ticks": ""
           },
           "bgcolor": "#E5ECF6",
           "caxis": {
            "gridcolor": "white",
            "linecolor": "white",
            "ticks": ""
           }
          },
          "title": {
           "x": 0.05
          },
          "xaxis": {
           "automargin": true,
           "gridcolor": "white",
           "linecolor": "white",
           "ticks": "",
           "title": {
            "standoff": 15
           },
           "zerolinecolor": "white",
           "zerolinewidth": 2
          },
          "yaxis": {
           "automargin": true,
           "gridcolor": "white",
           "linecolor": "white",
           "ticks": "",
           "title": {
            "standoff": 15
           },
           "zerolinecolor": "white",
           "zerolinewidth": 2
          }
         }
        },
        "title": {
         "text": "Algorithmic Trading using Momentum Strategy"
        },
        "xaxis": {
         "anchor": "y",
         "domain": [
          0,
          1
         ],
         "title": {
          "text": "Date"
         }
        },
        "xaxis2": {
         "anchor": "y2",
         "domain": [
          0,
          1
         ]
        },
        "yaxis": {
         "anchor": "x",
         "domain": [
          0.575,
          1
         ],
         "title": {
          "text": "Price"
         }
        },
        "yaxis2": {
         "anchor": "x2",
         "domain": [
          0,
          0.425
         ]
        }
       }
      },
      "text/html": [
       "<div>                            <div id=\"bc56fa58-3190-4b0e-ae5b-f55ffd1e33cc\" class=\"plotly-graph-div\" style=\"height:525px; width:100%;\"></div>            <script type=\"text/javascript\">                require([\"plotly\"], function(Plotly) {                    window.PLOTLYENV=window.PLOTLYENV || {};                                    if (document.getElementById(\"bc56fa58-3190-4b0e-ae5b-f55ffd1e33cc\")) {                    Plotly.newPlot(                        \"bc56fa58-3190-4b0e-ae5b-f55ffd1e33cc\",                        [{\"name\":\"Close Price\",\"x\":[0,1,2,3,4,5,6,7,8,9,10,11,12,13,14,15,16,17,18,19,20,21,22,23,24,25,26,27,28,29,30,31,32,33,34,35,36,37,38,39,40,41,42,43,44,45,46,47,48,49,50,51,52,53,54,55,56,57,58,59,60,61,62,63,64,65,66,67,68,69,70,71,72,73,74,75,76,77,78,79,80,81,82,83,84,85,86,87,88,89,90,91,92,93,94,95,96,97,98,99,100,101,102,103,104,105,106,107,108,109,110,111,112,113,114,115,116,117,118,119,120,121,122,123,124,125,126,127,128,129,130,131,132,133,134,135,136,137,138,139,140,141,142,143,144,145,146,147,148,149,150,151,152,153,154,155,156,157,158,159,160,161,162,163,164,165,166,167,168,169,170,171,172,173,174,175,176,177,178,179,180,181,182,183,184,185,186,187,188,189,190,191,192,193,194,195,196,197,198,199,200,201,202,203,204,205,206,207,208,209,210,211,212,213,214,215,216,217,218,219,220,221,222,223,224,225,226,227,228,229,230,231,232,233,234,235,236,237,238,239,240,241,242,243,244,245,246,247,248,249,250],\"y\":[161.4728546142578,160.68740844726562,158.85801696777344,158.76853942871094,158.30125427246094,169.34715270996094,173.77145385742188,173.6024627685547,174.82534790039062,171.90231323242188,171.61363220214844,170.8869171142578,174.04263305664062,175.48609924316406,171.34483337402344,167.88050842285156,168.11944580078125,172.01181030273438,171.7729034423828,168.11944580078125,166.5465545654297,163.57998657226562,159.34912109375,162.00709533691406,164.1075897216797,164.37635803222656,162.4650115966797,165.80987548828125,165.4813690185547,162.4351348876953,158.58258056640625,156.73094177246094,162.2161407470703,157.8061065673828,154.0331573486328,149.941650390625,154.3915252685547,158.87127685546875,159.89662170410156,163.2415008544922,164.63519287109375,168.05970764160156,169.44345092773438,173.2860565185547,173.93313598632812,174.80917358398438,178.154052734375,176.9694061279297,173.82362365722656,173.5249786376953,177.63638305664062,174.2716064453125,171.05613708496094,171.36474609375,169.323974609375,165.00352478027344,166.90492248535156,169.63258361816406,164.54559326171875,164.32659912109375,166.64608764648438,166.47686767578125,165.67051696777344,161.0613555908203,162.14645385742188,156.09384155273438,155.86488342285156,162.9030303955078,156.9399871826172,157.24862670898438,158.76177978515625,165.27232360839844,156.06398010253906,156.80172729492188,151.59759521484375,154.04013061523438,146.05450439453125,142.12648010253906,146.6626434326172,145.097412109375,148.7861785888672,140.39178466796875,136.93234252929688,137.17160034179688,142.67481994628906,139.9331817626953,140.0926971435547,143.3427734375,149.18495178222656,148.38739013671875,148.25779724121094,150.75018310546875,144.9379119873047,145.6956024169922,148.25779724121094,147.51007080078125,142.2062530517578,136.7130126953125,131.4789581298828,132.3562774658203,135.01815795898438,129.66448974609375,131.15992736816406,135.45681762695312,134.93841552734375,137.8495330810547,141.22923278808594,141.22923278808594,137.02206420898438,138.80661010742188,136.3042449951172,138.50750732421875,141.12953186035156,142.48538208007812,145.90496826171875,146.5928497314453,144.42945861816406,145.41644287109375,145.04757690429688,148.01852416992188,149.7133331298828,146.62278747558594,150.5408172607422,152.57461547851562,154.87759399414062,153.6214141845703,152.48489379882812,151.1389923095703,156.31320190429688,156.87152099609375,162.01580810546875,161.0188446044922,159.52340698242188,165.62481689453125,165.3057861328125,165.076171875,164.59695434570312,164.64686584472656,168.95973205566406,168.21096801757812,171.8149871826172,172.90318298339844,172.74343872070312,174.26092529296875,173.86158752441406,171.23594665527344,167.29249572753906,166.9530487060547,167.25254821777344,169.7484130859375,163.34901428222656,161.1127471923828,158.64683532714844,156.95962524414062,157.6984100341797,155.5519561767578,154.27407836914062,155.70172119140625,154.20420837402344,157.109375,163.15933227539062,153.58522033691406,155.0527801513672,152.11764526367188,150.45042419433594,154.22415161132812,156.64015197753906,153.46542358398438,152.48704528808594,150.1808624267578,150.5203094482422,151.5086669921875,149.5918426513672,142.24403381347656,137.9711151123047,142.21408081054688,145.85804748535156,146.15753173828125,145.18914794921875,139.8579864501953,140.18743896484375,138.7498321533203,138.1108856201172,142.75320434570312,138.1508331298828,142.17416381835938,143.51193237304688,143.6217498779297,143.15252685546875,147.02610778808594,149.20248413085938,152.08770751953125,149.1026611328125,144.56019592285156,155.48208618164062,153.08604431152344,150.40049743652344,144.78981018066406,138.65000915527344,138.3800048828125,138.9199981689453,139.5,134.8699951171875,146.8699951171875,149.6999969482422,148.27999877929688,150.0399932861328,148.7899932861328,150.72000122070312,151.2899932861328,148.00999450683594,150.17999267578125,151.07000732421875,148.11000061035156,144.22000122070312,141.1699981689453,148.02999877929688,148.30999755859375,147.80999755859375,146.6300048828125,142.91000366210938,140.94000244140625,142.64999389648438,142.16000366210938,144.49000549316406,145.47000122070312,143.2100067138672,136.5,134.50999450683594,132.3699951171875,132.3000030517578,135.4499969482422,132.22999572753906,131.86000061035156,130.02999877929688,126.04000091552734,129.61000061035156,129.92999267578125,125.06999969482422,126.36000061035156,125.0199966430664,129.6199951171875,130.14999389648438,130.72999572753906,133.49000549316406,133.41000366210938,134.75999450683594,135.94000244140625,135.2100067138672,135.27000427246094,137.8699951171875],\"type\":\"scatter\"},{\"name\":\"Momentum\",\"x\":[0,1,2,3,4,5,6,7,8,9,10,11,12,13,14,15,16,17,18,19,20,21,22,23,24,25,26,27,28,29,30,31,32,33,34,35,36,37,38,39,40,41,42,43,44,45,46,47,48,49,50,51,52,53,54,55,56,57,58,59,60,61,62,63,64,65,66,67,68,69,70,71,72,73,74,75,76,77,78,79,80,81,82,83,84,85,86,87,88,89,90,91,92,93,94,95,96,97,98,99,100,101,102,103,104,105,106,107,108,109,110,111,112,113,114,115,116,117,118,119,120,121,122,123,124,125,126,127,128,129,130,131,132,133,134,135,136,137,138,139,140,141,142,143,144,145,146,147,148,149,150,151,152,153,154,155,156,157,158,159,160,161,162,163,164,165,166,167,168,169,170,171,172,173,174,175,176,177,178,179,180,181,182,183,184,185,186,187,188,189,190,191,192,193,194,195,196,197,198,199,200,201,202,203,204,205,206,207,208,209,210,211,212,213,214,215,216,217,218,219,220,221,222,223,224,225,226,227,228,229,230,231,232,233,234,235,236,237,238,239,240,241,242,243,244,245,246,247,248,249,250],\"y\":[null,-0.0048642613575423654,-0.011384784266357473,-0.0005632547904752538,-0.002943184826990297,0.06977770636288394,0.026125630556295132,-0.0009724905047168164,0.007044169260814526,-0.016719741748400185,-0.0016793318533364632,-0.004234600005637135,0.01846669128142131,0.00829375056658499,-0.023598825701870774,-0.020218438355883772,0.001423258603243438,0.02315237528539993,-0.001388898006079331,-0.021269115025624674,-0.009355795981004,-0.017812244755856632,-0.02586419993772604,0.01668019393467679,0.01296544685525891,0.0016377567363137224,-0.011627867038957906,0.020588210709055366,-0.0019812237887469886,-0.018408320821408086,-0.023717493902736253,-0.011676180242065959,0.034997550021569346,-0.027186161373199513,-0.023908765641708296,-0.026562507893980625,0.029677376941876776,0.029015527757251025,0.006453934713230858,0.02091901076296998,0.00853760844703233,0.02080062416052897,0.008233640921735619,0.022677805307796284,0.003734169273476251,0.0050366342944860865,0.019134460061866365,-0.006649563050982632,-0.01777585481882138,-0.0017180922434349988,0.02369344431691056,-0.018941933816876033,-0.01845090790140047,0.0018041387701617229,-0.011908934193842535,-0.025515877707623535,0.011523376289143572,0.016342604473225775,-0.02998828555188382,-0.0013309024950712844,0.014115113060189088,-0.0010154452054229601,-0.004843620133328064,-0.027821253058863293,0.006737173312748368,-0.03732805843542941,-0.0014667979697677858,0.045155437312728086,-0.036604863632144324,0.001966608586555063,0.009622679115488975,0.041008256723076286,-0.05571618589739147,0.004727209903900187,-0.03318925224777591,0.016111966663647115,-0.05184120650124502,-0.026894235876365524,0.0319163841024237,-0.010672324503419484,0.025422689666660503,-0.0564191781824992,-0.024641343130252014,0.0017472702802028284,0.04011923452653132,-0.019215991894195872,0.0011399396401197137,0.023199469781175708,0.04075669951561145,-0.005346126643336335,-0.0008733416996444809,0.01681116211515521,-0.03855564881203255,0.005227689700358473,0.01758594481723308,-0.0050434206790025415,-0.03595563150523107,-0.0386286836096158,-0.038284977137433396,0.006672697657604143,0.020111478987851372,-0.03965146831966815,0.01153313158443492,0.032760694100780974,-0.003827065397601803,0.021573675237953616,0.024517309790552666,0.0,-0.029789644084623812,0.01302378495565315,-0.018027708553419175,0.016164297224789292,0.018930558976815393,0.00960713326157836,0.023999557931625448,0.0047145856506589645,-0.014757821525705594,0.006833676885399376,-0.002536618002159874,0.020482570815955503,0.011449978774381808,-0.020643088959990563,0.02672183398374317,0.013509945374156063,0.015094113187847258,-0.008110791091045955,-0.00739818984075169,-0.008826457859054893,0.03423477631853267,0.0035717974233469008,0.03279299567384886,-0.006153495221451255,-0.009287345377142264,0.03824774073927406,-0.0019262255965053487,-0.0013890273485528404,-0.002903008495131254,0.0003032346450262402,0.026194645059352872,-0.0044316123668997065,0.021425589588560223,0.006333532473652204,-0.0009238942854548071,0.008784626400306639,-0.0022916082184420983,-0.015101903223861513,-0.023029340537201626,-0.0020290630491711648,0.0017939146007812656,0.01492273149054979,-0.037699314458222055,-0.013690116831559407,-0.015305504425977334,-0.01063500623588609,0.004706846036934165,-0.013611131887484751,-0.008215118851768732,0.00925393842800748,-0.009617830849422027,0.018839736325029888,0.03850793293137733,-0.05867952390438058,0.009555345307535434,-0.01892990815662865,-0.010960076764573112,0.025082863256787435,0.01566551244385961,-0.0202676539410529,-0.006375236017662433,-0.015123795316324573,0.0022602548420569413,0.006566273664785127,-0.012651582109947213,-0.04911904758747532,-0.030039352699846256,0.03075256509153035,0.025623107459092465,0.0020532583432515406,-0.006625616740685958,-0.036718732593486014,0.0023556217489644204,-0.010254890324973842,-0.004605025629847881,0.03361298209581354,-0.03224005539430708,0.029122739235991624,0.009409364674700216,0.0007652151501753579,-0.003267074958073879,0.027059116717709664,0.014802652233100844,0.019337636403837344,-0.019627137757569302,-0.030465353035615927,0.07555254189485061,-0.01541040469008137,-0.017542728255065643,-0.037304978051866944,-0.042404924888910234,-0.0019473801271701063,0.003902249364639898,0.004175078021159573,-0.03318999915994625,0.08897457132383879,0.019268754171310798,-0.009485625904429806,0.011869399253607638,-0.00833111207633952,0.01297135574741759,0.003781794458686649,-0.02168020969565021,0.014661159715434469,0.0059263196953200925,-0.01959360938875554,-0.02626425881856731,-0.021148266717113118,0.04859389884061516,0.0018915002472865705,-0.0033713168918532155,-0.00798317228381984,-0.025369986338581674,-0.013784907775671984,0.012132761639400691,-0.0034349124103753015,0.01638999557563814,0.006782446468835079,-0.015535811424151502,-0.04685431463789913,-0.014578794821714758,-0.01590959391154889,-0.0005287608069164396,0.023809477126406797,-0.02377261936693542,-0.0027981178941416385,-0.01387836965405731,-0.03068521034551308,0.02832433885189234,0.00246888406699175,-0.03740470449409117,0.010314231379827232,-0.010604653061194957,0.036794101724815675,0.004088865910060413,0.004456410743407302,0.02111229140844828,-0.0005993095195339082,0.010119112567793076,0.008756366745847899,-0.005369984658148752,0.00044373608175840573,0.01922074933545259],\"yaxis\":\"y2\",\"type\":\"scatter\"},{\"marker\":{\"color\":\"green\",\"symbol\":\"triangle-up\"},\"mode\":\"markers\",\"name\":\"Buy\",\"x\":[5,6,8,12,13,16,17,23,24,25,27,32,36,37,38,39,40,41,42,43,44,45,46,50,53,56,57,60,64,67,69,70,71,73,75,78,80,83,84,86,87,88,91,93,94,99,100,102,103,105,106,109,111,112,113,114,115,117,119,120,122,123,124,128,129,130,133,137,138,140,141,143,148,149,154,157,159,160,162,165,166,170,171,175,176,177,180,183,185,186,187,189,190,191,194,200,201,203,204,206,208,209,211,212,216,217,222,224,225,231,236,237,239,241,242,243,244,246,247,249,250],\"y\":[169.34715270996094,173.77145385742188,174.82534790039062,174.04263305664062,175.48609924316406,168.11944580078125,172.01181030273438,162.00709533691406,164.1075897216797,164.37635803222656,165.80987548828125,162.2161407470703,154.3915252685547,158.87127685546875,159.89662170410156,163.2415008544922,164.63519287109375,168.05970764160156,169.44345092773438,173.2860565185547,173.93313598632812,174.80917358398438,178.154052734375,177.63638305664062,171.36474609375,166.90492248535156,169.63258361816406,166.64608764648438,162.14645385742188,162.9030303955078,157.24862670898438,158.76177978515625,165.27232360839844,156.80172729492188,154.04013061523438,146.6626434326172,148.7861785888672,137.17160034179688,142.67481994628906,140.0926971435547,143.3427734375,149.18495178222656,150.75018310546875,145.6956024169922,148.25779724121094,132.3562774658203,135.01815795898438,131.15992736816406,135.45681762695312,137.8495330810547,141.22923278808594,138.80661010742188,138.50750732421875,141.12953186035156,142.48538208007812,145.90496826171875,146.5928497314453,145.41644287109375,148.01852416992188,149.7133331298828,150.5408172607422,152.57461547851562,154.87759399414062,156.31320190429688,156.87152099609375,162.01580810546875,165.62481689453125,164.64686584472656,168.95973205566406,171.8149871826172,172.90318298339844,174.26092529296875,167.25254821777344,169.7484130859375,157.6984100341797,155.70172119140625,157.109375,163.15933227539062,155.0527801513672,154.22415161132812,156.64015197753906,150.5203094482422,151.5086669921875,142.21408081054688,145.85804748535156,146.15753173828125,140.18743896484375,142.75320434570312,142.17416381835938,143.51193237304688,143.6217498779297,147.02610778808594,149.20248413085938,152.08770751953125,155.48208618164062,138.9199981689453,139.5,146.8699951171875,149.6999969482422,150.0399932861328,150.72000122070312,151.2899932861328,150.17999267578125,151.07000732421875,148.02999877929688,148.30999755859375,142.64999389648438,144.49000549316406,145.47000122070312,135.4499969482422,129.61000061035156,129.92999267578125,126.36000061035156,129.6199951171875,130.14999389648438,130.72999572753906,133.49000549316406,134.75999450683594,135.94000244140625,135.27000427246094,137.8699951171875],\"type\":\"scatter\"},{\"marker\":{\"color\":\"red\",\"symbol\":\"triangle-down\"},\"mode\":\"markers\",\"name\":\"Sell\",\"x\":[1,2,3,4,7,9,10,11,14,15,18,19,20,21,22,26,28,29,30,31,33,34,35,47,48,49,51,52,54,55,58,59,61,62,63,65,66,68,72,74,76,77,79,81,82,85,89,90,92,95,96,97,98,101,104,108,110,116,118,121,125,126,127,131,132,134,135,136,139,142,144,145,146,147,150,151,152,153,155,156,158,161,163,164,167,168,169,172,173,174,178,179,181,182,184,188,192,193,195,196,197,198,199,202,205,207,210,213,214,215,218,219,220,221,223,226,227,228,229,230,232,233,234,235,238,240,245,248],\"y\":[160.68740844726562,158.85801696777344,158.76853942871094,158.30125427246094,173.6024627685547,171.90231323242188,171.61363220214844,170.8869171142578,171.34483337402344,167.88050842285156,171.7729034423828,168.11944580078125,166.5465545654297,163.57998657226562,159.34912109375,162.4650115966797,165.4813690185547,162.4351348876953,158.58258056640625,156.73094177246094,157.8061065673828,154.0331573486328,149.941650390625,176.9694061279297,173.82362365722656,173.5249786376953,174.2716064453125,171.05613708496094,169.323974609375,165.00352478027344,164.54559326171875,164.32659912109375,166.47686767578125,165.67051696777344,161.0613555908203,156.09384155273438,155.86488342285156,156.9399871826172,156.06398010253906,151.59759521484375,146.05450439453125,142.12648010253906,145.097412109375,140.39178466796875,136.93234252929688,139.9331817626953,148.38739013671875,148.25779724121094,144.9379119873047,147.51007080078125,142.2062530517578,136.7130126953125,131.4789581298828,129.66448974609375,134.93841552734375,137.02206420898438,136.3042449951172,144.42945861816406,145.04757690429688,146.62278747558594,153.6214141845703,152.48489379882812,151.1389923095703,161.0188446044922,159.52340698242188,165.3057861328125,165.076171875,164.59695434570312,168.21096801757812,172.74343872070312,173.86158752441406,171.23594665527344,167.29249572753906,166.9530487060547,163.34901428222656,161.1127471923828,158.64683532714844,156.95962524414062,155.5519561767578,154.27407836914062,154.20420837402344,153.58522033691406,152.11764526367188,150.45042419433594,153.46542358398438,152.48704528808594,150.1808624267578,149.5918426513672,142.24403381347656,137.9711151123047,145.18914794921875,139.8579864501953,138.7498321533203,138.1108856201172,138.1508331298828,143.15252685546875,149.1026611328125,144.56019592285156,153.08604431152344,150.40049743652344,144.78981018066406,138.65000915527344,138.3800048828125,134.8699951171875,148.27999877929688,148.7899932861328,148.00999450683594,148.11000061035156,144.22000122070312,141.1699981689453,147.80999755859375,146.6300048828125,142.91000366210938,140.94000244140625,142.16000366210938,143.2100067138672,136.5,134.50999450683594,132.3699951171875,132.3000030517578,132.22999572753906,131.86000061035156,130.02999877929688,126.04000091552734,125.06999969482422,125.0199966430664,133.41000366210938,135.2100067138672],\"type\":\"scatter\"}],                        {\"template\":{\"data\":{\"histogram2dcontour\":[{\"type\":\"histogram2dcontour\",\"colorbar\":{\"outlinewidth\":0,\"ticks\":\"\"},\"colorscale\":[[0.0,\"#0d0887\"],[0.1111111111111111,\"#46039f\"],[0.2222222222222222,\"#7201a8\"],[0.3333333333333333,\"#9c179e\"],[0.4444444444444444,\"#bd3786\"],[0.5555555555555556,\"#d8576b\"],[0.6666666666666666,\"#ed7953\"],[0.7777777777777778,\"#fb9f3a\"],[0.8888888888888888,\"#fdca26\"],[1.0,\"#f0f921\"]]}],\"choropleth\":[{\"type\":\"choropleth\",\"colorbar\":{\"outlinewidth\":0,\"ticks\":\"\"}}],\"histogram2d\":[{\"type\":\"histogram2d\",\"colorbar\":{\"outlinewidth\":0,\"ticks\":\"\"},\"colorscale\":[[0.0,\"#0d0887\"],[0.1111111111111111,\"#46039f\"],[0.2222222222222222,\"#7201a8\"],[0.3333333333333333,\"#9c179e\"],[0.4444444444444444,\"#bd3786\"],[0.5555555555555556,\"#d8576b\"],[0.6666666666666666,\"#ed7953\"],[0.7777777777777778,\"#fb9f3a\"],[0.8888888888888888,\"#fdca26\"],[1.0,\"#f0f921\"]]}],\"heatmap\":[{\"type\":\"heatmap\",\"colorbar\":{\"outlinewidth\":0,\"ticks\":\"\"},\"colorscale\":[[0.0,\"#0d0887\"],[0.1111111111111111,\"#46039f\"],[0.2222222222222222,\"#7201a8\"],[0.3333333333333333,\"#9c179e\"],[0.4444444444444444,\"#bd3786\"],[0.5555555555555556,\"#d8576b\"],[0.6666666666666666,\"#ed7953\"],[0.7777777777777778,\"#fb9f3a\"],[0.8888888888888888,\"#fdca26\"],[1.0,\"#f0f921\"]]}],\"heatmapgl\":[{\"type\":\"heatmapgl\",\"colorbar\":{\"outlinewidth\":0,\"ticks\":\"\"},\"colorscale\":[[0.0,\"#0d0887\"],[0.1111111111111111,\"#46039f\"],[0.2222222222222222,\"#7201a8\"],[0.3333333333333333,\"#9c179e\"],[0.4444444444444444,\"#bd3786\"],[0.5555555555555556,\"#d8576b\"],[0.6666666666666666,\"#ed7953\"],[0.7777777777777778,\"#fb9f3a\"],[0.8888888888888888,\"#fdca26\"],[1.0,\"#f0f921\"]]}],\"contourcarpet\":[{\"type\":\"contourcarpet\",\"colorbar\":{\"outlinewidth\":0,\"ticks\":\"\"}}],\"contour\":[{\"type\":\"contour\",\"colorbar\":{\"outlinewidth\":0,\"ticks\":\"\"},\"colorscale\":[[0.0,\"#0d0887\"],[0.1111111111111111,\"#46039f\"],[0.2222222222222222,\"#7201a8\"],[0.3333333333333333,\"#9c179e\"],[0.4444444444444444,\"#bd3786\"],[0.5555555555555556,\"#d8576b\"],[0.6666666666666666,\"#ed7953\"],[0.7777777777777778,\"#fb9f3a\"],[0.8888888888888888,\"#fdca26\"],[1.0,\"#f0f921\"]]}],\"surface\":[{\"type\":\"surface\",\"colorbar\":{\"outlinewidth\":0,\"ticks\":\"\"},\"colorscale\":[[0.0,\"#0d0887\"],[0.1111111111111111,\"#46039f\"],[0.2222222222222222,\"#7201a8\"],[0.3333333333333333,\"#9c179e\"],[0.4444444444444444,\"#bd3786\"],[0.5555555555555556,\"#d8576b\"],[0.6666666666666666,\"#ed7953\"],[0.7777777777777778,\"#fb9f3a\"],[0.8888888888888888,\"#fdca26\"],[1.0,\"#f0f921\"]]}],\"mesh3d\":[{\"type\":\"mesh3d\",\"colorbar\":{\"outlinewidth\":0,\"ticks\":\"\"}}],\"scatter\":[{\"fillpattern\":{\"fillmode\":\"overlay\",\"size\":10,\"solidity\":0.2},\"type\":\"scatter\"}],\"parcoords\":[{\"type\":\"parcoords\",\"line\":{\"colorbar\":{\"outlinewidth\":0,\"ticks\":\"\"}}}],\"scatterpolargl\":[{\"type\":\"scatterpolargl\",\"marker\":{\"colorbar\":{\"outlinewidth\":0,\"ticks\":\"\"}}}],\"bar\":[{\"error_x\":{\"color\":\"#2a3f5f\"},\"error_y\":{\"color\":\"#2a3f5f\"},\"marker\":{\"line\":{\"color\":\"#E5ECF6\",\"width\":0.5},\"pattern\":{\"fillmode\":\"overlay\",\"size\":10,\"solidity\":0.2}},\"type\":\"bar\"}],\"scattergeo\":[{\"type\":\"scattergeo\",\"marker\":{\"colorbar\":{\"outlinewidth\":0,\"ticks\":\"\"}}}],\"scatterpolar\":[{\"type\":\"scatterpolar\",\"marker\":{\"colorbar\":{\"outlinewidth\":0,\"ticks\":\"\"}}}],\"histogram\":[{\"marker\":{\"pattern\":{\"fillmode\":\"overlay\",\"size\":10,\"solidity\":0.2}},\"type\":\"histogram\"}],\"scattergl\":[{\"type\":\"scattergl\",\"marker\":{\"colorbar\":{\"outlinewidth\":0,\"ticks\":\"\"}}}],\"scatter3d\":[{\"type\":\"scatter3d\",\"line\":{\"colorbar\":{\"outlinewidth\":0,\"ticks\":\"\"}},\"marker\":{\"colorbar\":{\"outlinewidth\":0,\"ticks\":\"\"}}}],\"scattermapbox\":[{\"type\":\"scattermapbox\",\"marker\":{\"colorbar\":{\"outlinewidth\":0,\"ticks\":\"\"}}}],\"scatterternary\":[{\"type\":\"scatterternary\",\"marker\":{\"colorbar\":{\"outlinewidth\":0,\"ticks\":\"\"}}}],\"scattercarpet\":[{\"type\":\"scattercarpet\",\"marker\":{\"colorbar\":{\"outlinewidth\":0,\"ticks\":\"\"}}}],\"carpet\":[{\"aaxis\":{\"endlinecolor\":\"#2a3f5f\",\"gridcolor\":\"white\",\"linecolor\":\"white\",\"minorgridcolor\":\"white\",\"startlinecolor\":\"#2a3f5f\"},\"baxis\":{\"endlinecolor\":\"#2a3f5f\",\"gridcolor\":\"white\",\"linecolor\":\"white\",\"minorgridcolor\":\"white\",\"startlinecolor\":\"#2a3f5f\"},\"type\":\"carpet\"}],\"table\":[{\"cells\":{\"fill\":{\"color\":\"#EBF0F8\"},\"line\":{\"color\":\"white\"}},\"header\":{\"fill\":{\"color\":\"#C8D4E3\"},\"line\":{\"color\":\"white\"}},\"type\":\"table\"}],\"barpolar\":[{\"marker\":{\"line\":{\"color\":\"#E5ECF6\",\"width\":0.5},\"pattern\":{\"fillmode\":\"overlay\",\"size\":10,\"solidity\":0.2}},\"type\":\"barpolar\"}],\"pie\":[{\"automargin\":true,\"type\":\"pie\"}]},\"layout\":{\"autotypenumbers\":\"strict\",\"colorway\":[\"#636efa\",\"#EF553B\",\"#00cc96\",\"#ab63fa\",\"#FFA15A\",\"#19d3f3\",\"#FF6692\",\"#B6E880\",\"#FF97FF\",\"#FECB52\"],\"font\":{\"color\":\"#2a3f5f\"},\"hovermode\":\"closest\",\"hoverlabel\":{\"align\":\"left\"},\"paper_bgcolor\":\"white\",\"plot_bgcolor\":\"#E5ECF6\",\"polar\":{\"bgcolor\":\"#E5ECF6\",\"angularaxis\":{\"gridcolor\":\"white\",\"linecolor\":\"white\",\"ticks\":\"\"},\"radialaxis\":{\"gridcolor\":\"white\",\"linecolor\":\"white\",\"ticks\":\"\"}},\"ternary\":{\"bgcolor\":\"#E5ECF6\",\"aaxis\":{\"gridcolor\":\"white\",\"linecolor\":\"white\",\"ticks\":\"\"},\"baxis\":{\"gridcolor\":\"white\",\"linecolor\":\"white\",\"ticks\":\"\"},\"caxis\":{\"gridcolor\":\"white\",\"linecolor\":\"white\",\"ticks\":\"\"}},\"coloraxis\":{\"colorbar\":{\"outlinewidth\":0,\"ticks\":\"\"}},\"colorscale\":{\"sequential\":[[0.0,\"#0d0887\"],[0.1111111111111111,\"#46039f\"],[0.2222222222222222,\"#7201a8\"],[0.3333333333333333,\"#9c179e\"],[0.4444444444444444,\"#bd3786\"],[0.5555555555555556,\"#d8576b\"],[0.6666666666666666,\"#ed7953\"],[0.7777777777777778,\"#fb9f3a\"],[0.8888888888888888,\"#fdca26\"],[1.0,\"#f0f921\"]],\"sequentialminus\":[[0.0,\"#0d0887\"],[0.1111111111111111,\"#46039f\"],[0.2222222222222222,\"#7201a8\"],[0.3333333333333333,\"#9c179e\"],[0.4444444444444444,\"#bd3786\"],[0.5555555555555556,\"#d8576b\"],[0.6666666666666666,\"#ed7953\"],[0.7777777777777778,\"#fb9f3a\"],[0.8888888888888888,\"#fdca26\"],[1.0,\"#f0f921\"]],\"diverging\":[[0,\"#8e0152\"],[0.1,\"#c51b7d\"],[0.2,\"#de77ae\"],[0.3,\"#f1b6da\"],[0.4,\"#fde0ef\"],[0.5,\"#f7f7f7\"],[0.6,\"#e6f5d0\"],[0.7,\"#b8e186\"],[0.8,\"#7fbc41\"],[0.9,\"#4d9221\"],[1,\"#276419\"]]},\"xaxis\":{\"gridcolor\":\"white\",\"linecolor\":\"white\",\"ticks\":\"\",\"title\":{\"standoff\":15},\"zerolinecolor\":\"white\",\"automargin\":true,\"zerolinewidth\":2},\"yaxis\":{\"gridcolor\":\"white\",\"linecolor\":\"white\",\"ticks\":\"\",\"title\":{\"standoff\":15},\"zerolinecolor\":\"white\",\"automargin\":true,\"zerolinewidth\":2},\"scene\":{\"xaxis\":{\"backgroundcolor\":\"#E5ECF6\",\"gridcolor\":\"white\",\"linecolor\":\"white\",\"showbackground\":true,\"ticks\":\"\",\"zerolinecolor\":\"white\",\"gridwidth\":2},\"yaxis\":{\"backgroundcolor\":\"#E5ECF6\",\"gridcolor\":\"white\",\"linecolor\":\"white\",\"showbackground\":true,\"ticks\":\"\",\"zerolinecolor\":\"white\",\"gridwidth\":2},\"zaxis\":{\"backgroundcolor\":\"#E5ECF6\",\"gridcolor\":\"white\",\"linecolor\":\"white\",\"showbackground\":true,\"ticks\":\"\",\"zerolinecolor\":\"white\",\"gridwidth\":2}},\"shapedefaults\":{\"line\":{\"color\":\"#2a3f5f\"}},\"annotationdefaults\":{\"arrowcolor\":\"#2a3f5f\",\"arrowhead\":0,\"arrowwidth\":1},\"geo\":{\"bgcolor\":\"white\",\"landcolor\":\"#E5ECF6\",\"subunitcolor\":\"white\",\"showland\":true,\"showlakes\":true,\"lakecolor\":\"white\"},\"title\":{\"x\":0.05},\"mapbox\":{\"style\":\"light\"}}},\"xaxis\":{\"anchor\":\"y\",\"domain\":[0.0,1.0],\"title\":{\"text\":\"Date\"}},\"yaxis\":{\"anchor\":\"x\",\"domain\":[0.575,1.0],\"title\":{\"text\":\"Price\"}},\"xaxis2\":{\"anchor\":\"y2\",\"domain\":[0.0,1.0]},\"yaxis2\":{\"anchor\":\"x2\",\"domain\":[0.0,0.425]},\"title\":{\"text\":\"Algorithmic Trading using Momentum Strategy\"}},                        {\"responsive\": true}                    ).then(function(){\n",
       "                            \n",
       "var gd = document.getElementById('bc56fa58-3190-4b0e-ae5b-f55ffd1e33cc');\n",
       "var x = new MutationObserver(function (mutations, observer) {{\n",
       "        var display = window.getComputedStyle(gd).display;\n",
       "        if (!display || display === 'none') {{\n",
       "            console.log([gd, 'removed!']);\n",
       "            Plotly.purge(gd);\n",
       "            observer.disconnect();\n",
       "        }}\n",
       "}});\n",
       "\n",
       "// Listen for the removal of the full notebook cells\n",
       "var notebookContainer = gd.closest('#notebook-container');\n",
       "if (notebookContainer) {{\n",
       "    x.observe(notebookContainer, {childList: true});\n",
       "}}\n",
       "\n",
       "// Listen for the clearing of the current output cell\n",
       "var outputEl = gd.closest('.output');\n",
       "if (outputEl) {{\n",
       "    x.observe(outputEl, {childList: true});\n",
       "}}\n",
       "\n",
       "                        })                };                });            </script>        </div>"
      ]
     },
     "metadata": {},
     "output_type": "display_data"
    }
   ],
   "source": []
  },
  {
   "cell_type": "code",
   "execution_count": null,
   "id": "7ac60f1b-984f-4196-950d-7d5ed9daf9cc",
   "metadata": {},
   "outputs": [],
   "source": []
  }
 ],
 "metadata": {
  "kernelspec": {
   "display_name": "Python 3 (ipykernel)",
   "language": "python",
   "name": "python3"
  },
  "language_info": {
   "codemirror_mode": {
    "name": "ipython",
    "version": 3
   },
   "file_extension": ".py",
   "mimetype": "text/x-python",
   "name": "python",
   "nbconvert_exporter": "python",
   "pygments_lexer": "ipython3",
   "version": "3.10.9"
  }
 },
 "nbformat": 4,
 "nbformat_minor": 5
}
